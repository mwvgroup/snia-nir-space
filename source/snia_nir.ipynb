{
 "cells": [
  {
   "cell_type": "markdown",
   "metadata": {},
   "source": [
    "# Figures for SNIa NIR Space Astro 2020 Paper\n",
    "Michael Wood-Vasey"
   ]
  },
  {
   "cell_type": "markdown",
   "metadata": {},
   "source": [
    "Figures to Make:\n",
    "1. SED with UV, optical, NIR filters at z= 0, 0.2, 0.5, 1.0, 1.5\n",
    "2. Cosmological constraints from reduced intrinsic scatter.\n",
    "3. Constraints on dust extinction from UV+opt+NIR data."
   ]
  },
  {
   "cell_type": "code",
   "execution_count": null,
   "metadata": {},
   "outputs": [],
   "source": [
    "from copy import copy"
   ]
  },
  {
   "cell_type": "code",
   "execution_count": null,
   "metadata": {},
   "outputs": [],
   "source": [
    "%matplotlib inline\n",
    "import matplotlib.pyplot as plt"
   ]
  },
  {
   "cell_type": "code",
   "execution_count": null,
   "metadata": {},
   "outputs": [],
   "source": [
    "import numpy as np"
   ]
  },
  {
   "cell_type": "code",
   "execution_count": null,
   "metadata": {},
   "outputs": [],
   "source": [
    "import sncosmo\n",
    "from astropy.cosmology import Planck15\n",
    "import astropy.units as u\n",
    "import astropy.constants as const"
   ]
  },
  {
   "cell_type": "code",
   "execution_count": null,
   "metadata": {},
   "outputs": [],
   "source": [
    "model = sncosmo.Model('hsiao')\n",
    "wavelength = np.arange(model.minwave(), model.maxwave(), 10)  # Angstroms\n",
    "phases = np.array([-19, -10, 0, 10])"
   ]
  },
  {
   "cell_type": "code",
   "execution_count": null,
   "metadata": {
    "scrolled": false
   },
   "outputs": [],
   "source": [
    "model.param_names"
   ]
  },
  {
   "cell_type": "code",
   "execution_count": null,
   "metadata": {},
   "outputs": [],
   "source": [
    "model.update"
   ]
  },
  {
   "cell_type": "code",
   "execution_count": null,
   "metadata": {},
   "outputs": [],
   "source": [
    "z_0 = Planck15.H0 * (10 * u.pc) / const.c\n",
    "z_0 = z_0.decompose()"
   ]
  },
  {
   "cell_type": "code",
   "execution_count": null,
   "metadata": {},
   "outputs": [],
   "source": [
    "mu = Planck15.distmod(z_0)"
   ]
  },
  {
   "cell_type": "code",
   "execution_count": null,
   "metadata": {},
   "outputs": [],
   "source": [
    "mu / u.mag"
   ]
  },
  {
   "cell_type": "code",
   "execution_count": null,
   "metadata": {},
   "outputs": [],
   "source": [
    "def plot_model(untouch_model, ax, phases=[-10, 0, 10, 20, 50], redshifts=[0], scaling=None,\n",
    "              loc='upper left', wavelength_plot_buffer=[.8, .3]):\n",
    "    model = copy(untouch_model)\n",
    "\n",
    "    # Only label redshift or phase if it's varying.\n",
    "    label_entries = []\n",
    "    if len(phases) > 1:\n",
    "        label_entries.append('{day:} days')\n",
    "    if len(redshifts) > 1:\n",
    "        label_entries.append('z={redshift:}')\n",
    "    label_format_string = ','.join(label_entries)\n",
    "                \n",
    "    for d in phases:\n",
    "        z_eps = (Planck15.H0 * (10 * u.pc) / const.c).decompose()  # Redshift of 10 pc\n",
    "        mu = Planck15.distmod(np.asarray(redshifts)+z_eps)  # Enforce a minimum (z_eps ~= 3e-9) so that the naive z=0 doesn't crash\n",
    "        if scaling is None:\n",
    "            scaling = 10**(-0.4*(mu/u.mag)).value\n",
    "\n",
    "        for z, s in zip(redshifts, scaling):\n",
    "            model.set(z=z)\n",
    "            this_wavelength = np.arange(model.minwave(), model.maxwave(), 1)\n",
    "            flux = model.flux(time=d, wave=this_wavelength)\n",
    "            this_wavelength_um = this_wavelength * 1e-4\n",
    "            # Rescale by mu\n",
    "            flux *= s\n",
    "            ax.plot(this_wavelength_um, flux, label=label_format_string.format(**{'redshift': z, 'day': d}))\n",
    "    \n",
    "    ax.set_xlim(this_wavelength_um[0] - wavelength_plot_buffer[0],\n",
    "                this_wavelength_um[-1] + wavelength_plot_buffer[1])\n",
    "    ax.set_xlabel(r'Wavelength [$\\mu$m]')\n",
    "    ax.set_ylabel(r'flux density [d flux/d$\\lambda$]') \n",
    "    ax.legend(loc=loc)"
   ]
  },
  {
   "cell_type": "code",
   "execution_count": null,
   "metadata": {},
   "outputs": [],
   "source": [
    "def plot_cumulative_flux(untouch_model, ax, phases=[-10, 0, 10, 20, 50], redshifts=[0], scaling=None,\n",
    "              wavelength_plot_buffer=[.8, .3]):\n",
    "    model = copy(untouch_model)\n",
    "\n",
    "    # Only label redshift or phase if it's varying.\n",
    "    label_entries = []\n",
    "    if len(phases) > 1:\n",
    "        label_entries.append('{day:} days')\n",
    "    if len(redshifts) > 1:\n",
    "        label_entries.append('z={redshift:}')\n",
    "    label_format_string = ','.join(label_entries)\n",
    "                \n",
    "    for d in phases:\n",
    "        for z in redshifts:\n",
    "            model.set(z=z)\n",
    "            this_wavelength = np.arange(model.minwave(), model.maxwave(), 1)\n",
    "            flux = model.flux(time=d, wave=this_wavelength)\n",
    "            this_wavelength_um = this_wavelength * 1e-4\n",
    "            cdfflux = np.cumsum(flux)\n",
    "            cdfflux /= cdfflux[-1]\n",
    "            ax.plot(this_wavelength_um, cdfflux, label=label_format_string.format(**{'redshift': z, 'day': d}))\n",
    "    \n",
    "    ax.set_xlim(this_wavelength_um[0] - wavelength_plot_buffer[0],\n",
    "                this_wavelength_um[-1] + wavelength_plot_buffer[1])\n",
    "#    ax.set_xlabel(r'Wavelength [$\\AA$]')\n",
    "    ax.set_xlabel(r'Wavelength [$\\mu$m]')\n",
    "    ax.set_ylabel(r'Cumulative flux') \n",
    "    ax.legend(loc='upper left')"
   ]
  },
  {
   "cell_type": "code",
   "execution_count": null,
   "metadata": {},
   "outputs": [],
   "source": [
    "def overlay_bandpasses(ax,\n",
    "                       bands=('lsstu', 'lsstg', 'lsstr', 'lssti', 'lsstz', 'lssty',\n",
    "                              'cspjs', 'csphs', 'cspk',\n",
    "                              'f277w', 'f356w', 'f444w'),\n",
    "                       wavelength_resolution=1,\n",
    "                       plot_bandpass_range=True, plot_bandpass_transmission=False,\n",
    "                       legend=True,\n",
    "                       loc='upper right'\n",
    "                      ):\n",
    "    \"\"\"Overlay bandpass curves on twinx of given axis.\n",
    "    \n",
    "    ax:  matplotlib Axis\n",
    "    wavelength_resolution:  float  [Angstrom\n",
    "    \"\"\"\n",
    "    short_labels = {'lsstu': 'u', 'lsstg': 'g', 'lsstr': 'r', 'lssti': 'i', 'lsstz': 'z',\n",
    "                    'lssty': 'y', 'cspjs': 'J', 'csphs': 'H', 'cspk': 'K',\n",
    "                    'f277w': 'f277w', 'f356w': 'f356w', 'f444w': 'f444w'}\n",
    "\n",
    "    ax2 = ax.twinx()\n",
    "    for b in bands:\n",
    "        band = sncosmo.get_bandpass(b)\n",
    "        wavelength = np.arange(band.minwave(), band.maxwave(), wavelength_resolution)\n",
    "        wavelength_um = wavelength * 1e-4\n",
    "        transmission = band(wavelength)\n",
    "\n",
    "        if plot_bandpass_transmission:\n",
    "            ax2.plot(wavelength_um, transmission, label=short_labels[b], linestyle=':')\n",
    "\n",
    "        if plot_bandpass_range:\n",
    "            # Find points of 50% of peak transmission\n",
    "            # Assume we're in wavelength order\n",
    "            w, = np.where(transmission/np.max(transmission) > 0.50)\n",
    "            minwave, maxwave = wavelength[w[0]], wavelength[w[-1]]\n",
    "            wavelength = np.array([minwave, minwave, maxwave, maxwave])\n",
    "            wavelength_um = wavelength * 1e-4\n",
    "            points = [0, 1, 1, 0]\n",
    "            ax2.plot(wavelength_um, points, label=short_labels[b], linestyle='--')\n",
    "\n",
    "    if legend:\n",
    "        ax2.legend(loc=loc)"
   ]
  },
  {
   "cell_type": "code",
   "execution_count": null,
   "metadata": {},
   "outputs": [],
   "source": [
    "fig, axes = plt.subplots(1, 2, figsize=(16, 6))\n",
    "\n",
    "plot_model(model, axes[0])\n",
    "\n",
    "plot_model(model, axes[1])\n",
    "axes[1].set_yscale('log')\n",
    "#axes[1].set_ylim(1e-12, 1.2e-8)\n",
    "\n",
    "overlay_bandpasses(axes[0], plot_bandpass_transmission=True, plot_bandpass_range=False)\n",
    "overlay_bandpasses(axes[0], plot_bandpass_transmission=False, plot_bandpass_range=True)\n",
    "\n",
    "overlay_bandpasses(axes[1])"
   ]
  },
  {
   "cell_type": "code",
   "execution_count": null,
   "metadata": {},
   "outputs": [],
   "source": [
    "fig, axes = plt.subplots(1, 1, figsize=(6, 4))\n",
    "\n",
    "plot_model(model, axes, loc='upper right',\n",
    "           wavelength_plot_buffer=[.3, .3])\n",
    "axes.set_yscale('log')\n",
    "axes.set_ylim(1e-12, 1.2e-8)\n",
    "\n",
    "overlay_bandpasses(axes, legend=False,\n",
    "           bands=('lsstu', 'lsstg', 'lsstr', 'lssti', 'lsstz', 'lssty',\n",
    "                  'cspjs', 'csphs', 'cspk'))\n",
    "plt.savefig('SNIa_phases_restframe.pdf')"
   ]
  },
  {
   "cell_type": "code",
   "execution_count": null,
   "metadata": {},
   "outputs": [],
   "source": [
    "fig = plt.figure(figsize=(6, 4))\n",
    "ax = plt.gca()\n",
    "kwargs = {'phases': [-10], 'redshifts': [0, 0.2, 0.5, 1.0, 1.5], 'scaling': [1e0, 1e-1, 1e-2, 1e-3, 1e-4]}\n",
    "\n",
    "plot_model(model, ax, **kwargs)\n",
    "\n",
    "ax.set_yscale('log')\n",
    "ax.set_ylim(1e-15, 1.5e-8)\n",
    "\n",
    "overlay_bandpasses(ax)"
   ]
  },
  {
   "cell_type": "code",
   "execution_count": null,
   "metadata": {},
   "outputs": [],
   "source": [
    "fig = plt.figure(figsize=(6, 4))\n",
    "ax = plt.gca()\n",
    "kwargs = {'phases': [+20], 'redshifts': [0, 0.2, 0.5, 1.0, 1.5], 'scaling': [1e0, 1e-1, 1e-2, 1e-3, 1e-4]}\n",
    "\n",
    "plot_model(model, ax, **kwargs)\n",
    "\n",
    "ax.set_yscale('log')\n",
    "ax.set_ylim(1e-15, 1.5e-8)\n",
    "\n",
    "overlay_bandpasses(ax)"
   ]
  },
  {
   "cell_type": "code",
   "execution_count": null,
   "metadata": {},
   "outputs": [],
   "source": [
    "fig = plt.figure(figsize=(6, 4))\n",
    "ax = plt.gca()\n",
    "kwargs = {'phases': [0], 'redshifts': [0, 0.2, 0.5, 1.0, 1.5], 'scaling': [1e0, 1e-1, 1e-2, 1e-3, 1e-4]}\n",
    "\n",
    "plot_model(model, ax, loc='upper right', **kwargs)\n",
    "\n",
    "ax.set_yscale('log')\n",
    "ax.set_ylim(1e-15, 1.5e-8)\n",
    "\n",
    "overlay_bandpasses(ax, legend=False)\n",
    "plt.savefig('SNIa_at_max_over_redshift.pdf')"
   ]
  },
  {
   "cell_type": "code",
   "execution_count": null,
   "metadata": {},
   "outputs": [],
   "source": [
    "fig = plt.figure(figsize=(6, 4))\n",
    "ax = plt.gca()\n",
    "kwargs = {'phases': [15], 'redshifts': [0, 0.2, 0.5, 1.0, 1.5], 'scaling': [1e0, 1e-1, 1e-2, 1e-3, 1e-4]}\n",
    "\n",
    "plot_model(model, ax, loc='upper right', **kwargs)\n",
    "\n",
    "ax.set_yscale('log')\n",
    "ax.set_ylim(1e-15, 1.5e-8)\n",
    "\n",
    "overlay_bandpasses(ax, legend=False)\n",
    "plt.savefig('SNIa_at_15d_over_redshift.pdf')"
   ]
  },
  {
   "cell_type": "code",
   "execution_count": null,
   "metadata": {},
   "outputs": [],
   "source": [
    "fig = plt.figure(figsize=(6, 4))\n",
    "ax = plt.gca()\n",
    "kwargs = {'phases': [20], 'redshifts': [0, 0.2, 0.5, 1.0, 1.5], 'scaling': [1e0, 1e-1, 1e-2, 1e-3, 1e-4]}\n",
    "\n",
    "plot_cumulative_flux(model, ax, **kwargs)\n",
    "\n",
    "# ax.set_yscale('log')\n",
    "\n",
    "overlay_bandpasses(ax, loc='lower right')"
   ]
  },
  {
   "cell_type": "code",
   "execution_count": null,
   "metadata": {},
   "outputs": [],
   "source": [
    "z = np.arange(0.05, 1.5, 0.01)\n",
    "mu = Planck15.distmod(z)\n",
    "M_H = -18.5  # Absolute H-band magnitude of a SN Ia.\n",
    "m_H = mu.value + M_H\n",
    "\n",
    "# [AB mag, s] photometric exposure time at reference mag and SNR=10.\n",
    "imaging = {'m_0': 24.5, 't_0': 300, 'snr_0': 10}  # SNR per PSF\n",
    "spectroscopy = {'m_0': 23.0, 't_0': 4000, 'snr_0': 10}  # SNR per resolution element\n",
    "# SNR goes as sqrt(exposure_time)\n",
    "# Let's assume we're hitting sky background at this point, so N is const/time.\n",
    "# S = S_0 * t = 10**(-0.4*(m0 - m)\n",
    "# N = N_0 * t/t_0\n",
    "#       (S_0 * 10**(-0.4*(m - m0)) \n",
    "# SNR = --------------------------\n",
    "#           N_0 * (t/t_0)\n",
    "# snr_0 = S_0/N_0\n",
    "# For constant SNR=snr_0, that means exposure time \n",
    "# t = 10**(-0.4*(m - m0)) * t_0\n",
    "def exposure_time(m, fiducial):\n",
    "    exposure_time = 10**(-0.4*(fiducial['m_0'] - m)) * fiducial['t_0']\n",
    "    return exposure_time\n",
    "\n",
    "# Calculate the observer-frame effectively wavelength of H-band.\n",
    "H_lambda_max = 1.8\n",
    "H_lambda_effective = (1.5 + 1.8)/2\n",
    "obs_H_lambda = H_lambda_max * (1+z)\n",
    "\n",
    "ax1 = plt.gca()\n",
    "ax1.plot(z, m_H, color='black', label='SN Ia peak NIR')\n",
    "\n",
    "ax2 = ax1.twinx()\n",
    "ax2.plot(z, exposure_time(m_H, imaging), color='red', linestyle='--', label='Imaging Exposure Time')\n",
    "ax2.plot(z, exposure_time(m_H, spectroscopy), color='green', linestyle='--', label='Spectroscopy Exposure Time')\n",
    "\n",
    "ax1.axhline(24.5, color='grey', linestyle=':')\n",
    "# ax1.axvline(0.7, color='grey', linestyle=':')\n",
    "ax1.set_xlabel('z')\n",
    "ax1.set_ylabel('Apparent Magnitude')\n",
    "\n",
    "ax2.set_ylim(0, 2*3600)\n",
    "\n",
    "ax2.set_ylabel('TSO Exposure Time [s]')\n",
    "\n",
    "ax3 = ax1.twiny()\n",
    "ax3.plot(obs_H_lambda, m_H, color='black')\n",
    "ax3.set_xlabel(r'Observer-Frame H-band [$\\mu$m]')\n",
    "\n",
    "# ax2.axhline(1800, label='JWST minimum visit time')\n",
    "ax2.axhspan(0, 3600, alpha=0.5, label='TSO Comparable to JWST')\n",
    "ax2.axhspan(0, 1800, label='TSO Faster than JWST')\n",
    "\n",
    "ax1.set_ylim(18, 28)  # mag\n",
    "\n",
    "ax1.legend(loc='upper right')\n",
    "ax2.legend(loc='center right')\n",
    "\n",
    "plt.savefig('SNIa_redshift_TSO_JWST.pdf')"
   ]
  },
  {
   "cell_type": "code",
   "execution_count": null,
   "metadata": {},
   "outputs": [],
   "source": []
  },
  {
   "cell_type": "code",
   "execution_count": null,
   "metadata": {},
   "outputs": [],
   "source": []
  }
 ],
 "metadata": {
  "kernelspec": {
   "display_name": "Python 3",
   "language": "python",
   "name": "python3"
  },
  "language_info": {
   "codemirror_mode": {
    "name": "ipython",
    "version": 3
   },
   "file_extension": ".py",
   "mimetype": "text/x-python",
   "name": "python",
   "nbconvert_exporter": "python",
   "pygments_lexer": "ipython3",
   "version": "3.7.0"
  }
 },
 "nbformat": 4,
 "nbformat_minor": 2
}
