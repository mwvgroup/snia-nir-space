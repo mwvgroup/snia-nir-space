{
 "cells": [
  {
   "cell_type": "markdown",
   "metadata": {},
   "source": [
    "# Figures for SNIa NIR Space Astro 2020 Paper\n",
    "Michael Wood-Vasey"
   ]
  },
  {
   "cell_type": "markdown",
   "metadata": {},
   "source": [
    "Figures to Make:\n",
    "1. SED with UV, optical, NIR filters at z= 0, 0.2, 0.5, 1.0, 1.5\n",
    "2. Cosmological constraints from reduced intrinsic scatter.\n",
    "3. Constraints on dust extinction from UV+opt+NIR data."
   ]
  },
  {
   "cell_type": "code",
   "execution_count": null,
   "metadata": {},
   "outputs": [],
   "source": [
    "from copy import copy"
   ]
  },
  {
   "cell_type": "code",
   "execution_count": null,
   "metadata": {},
   "outputs": [],
   "source": [
    "%matplotlib inline\n",
    "import matplotlib.pyplot as plt"
   ]
  },
  {
   "cell_type": "code",
   "execution_count": null,
   "metadata": {},
   "outputs": [],
   "source": [
    "import numpy as np"
   ]
  },
  {
   "cell_type": "code",
   "execution_count": null,
   "metadata": {},
   "outputs": [],
   "source": [
    "import sncosmo\n",
    "from astropy.cosmology import Planck15\n",
    "import astropy.units as u\n",
    "import astropy.constants as const"
   ]
  },
  {
   "cell_type": "code",
   "execution_count": null,
   "metadata": {},
   "outputs": [],
   "source": [
    "model = sncosmo.Model('hsiao')\n",
    "wavelength = np.arange(model.minwave(), model.maxwave(), 10)  # Angstroms\n",
    "phases = np.array([-19, -10, 0, 10])"
   ]
  },
  {
   "cell_type": "code",
   "execution_count": null,
   "metadata": {
    "scrolled": false
   },
   "outputs": [],
   "source": [
    "model.param_names"
   ]
  },
  {
   "cell_type": "code",
   "execution_count": null,
   "metadata": {},
   "outputs": [],
   "source": [
    "model.update"
   ]
  },
  {
   "cell_type": "code",
   "execution_count": null,
   "metadata": {},
   "outputs": [],
   "source": [
    "z_0 = Planck15.H0 * (10 * u.pc) / const.c\n",
    "z_0 = z_0.decompose()"
   ]
  },
  {
   "cell_type": "code",
   "execution_count": null,
   "metadata": {},
   "outputs": [],
   "source": [
    "mu = Planck15.distmod(z_0)"
   ]
  },
  {
   "cell_type": "code",
   "execution_count": null,
   "metadata": {},
   "outputs": [],
   "source": [
    "mu / u.mag"
   ]
  },
  {
   "cell_type": "code",
   "execution_count": null,
   "metadata": {},
   "outputs": [],
   "source": [
    "def plot_model(untouch_model, ax, phases=[1, 10, 20, 50], redshifts=[0], scaling=None,\n",
    "              wavelength_plot_buffer=[5000, 3000]):\n",
    "    model = copy(untouch_model)\n",
    "    for d in phases:\n",
    "        z_eps = (Planck15.H0 * (10 * u.pc) / const.c).decompose()  # Redshift of 10 pc\n",
    "        mu = Planck15.distmod(np.asarray(redshifts)+z_eps)  # Enforce a minimum (z_eps ~= 3e-9) so that the naive z=0 doesn't crash\n",
    "        if scaling is None:\n",
    "            scaling = 10**(-0.4*(mu/u.mag)).value\n",
    "\n",
    "        for z, s in zip(redshifts, scaling):\n",
    "            model.set(z=z)\n",
    "            this_wavelength = np.arange(model.minwave(), model.maxwave(), 1)\n",
    "            flux = model.flux(time=d, wave=this_wavelength)\n",
    "            # Rescale by mu\n",
    "            flux *= s\n",
    "            ax.plot(this_wavelength, flux, label='z={}, {} days'.format(z, d))\n",
    "    \n",
    "    ax.set_xlim(wavelength[0] - wavelength_plot_buffer[0],\n",
    "                wavelength[-1] + wavelength_plot_buffer[1])\n",
    "    ax.set_xlabel(r'Wavelength [$\\AA$]')\n",
    "    ax.set_ylabel(r'flux density [d flux/d$\\lambda$]') \n",
    "    ax.legend(loc='upper left')"
   ]
  },
  {
   "cell_type": "code",
   "execution_count": null,
   "metadata": {},
   "outputs": [],
   "source": [
    "def overlay_bandpasses(ax,\n",
    "                       bands=('cspu', 'cspb', 'cspg', 'cspr', 'cspi', 'cspys', 'cspjs', 'csphs', 'cspk'),\n",
    "                       wavelength=wavelength):\n",
    "    ax2 = ax.twinx()\n",
    "    for b in bands:\n",
    "        band = sncosmo.get_bandpass(b)\n",
    "        ax2.plot(wavelength, band(wavelength), label=b, linestyle=':')\n",
    "        \n",
    "    ax2.legend(loc='upper right')"
   ]
  },
  {
   "cell_type": "code",
   "execution_count": null,
   "metadata": {},
   "outputs": [],
   "source": [
    "fig, axes = plt.subplots(1, 2, figsize=(16, 6))\n",
    "\n",
    "plot_model(model, axes[0])\n",
    "\n",
    "plot_model(model, axes[1])\n",
    "axes[1].set_yscale('log')\n",
    "#axes[1].set_ylim(1e-12, 1.2e-8)\n",
    "\n",
    "overlay_bandpasses(axes[0])\n",
    "overlay_bandpasses(axes[1])"
   ]
  },
  {
   "cell_type": "code",
   "execution_count": null,
   "metadata": {},
   "outputs": [],
   "source": [
    "fig = plt.figure(figsize=(12,8))\n",
    "ax = plt.gca()\n",
    "kwargs = {'phases': [-10], 'redshifts': [0, 0.2, 0.5, 1.0, 1.5], 'scaling': [1e0, 1e-1, 1e-2, 1e-3, 1e-4]}\n",
    "\n",
    "plot_model(model, ax, **kwargs)\n",
    "\n",
    "ax.set_yscale('log')\n",
    "ax.set_ylim(1e-14, 1.2e-8)\n",
    "\n",
    "overlay_bandpasses(ax)"
   ]
  },
  {
   "cell_type": "code",
   "execution_count": null,
   "metadata": {},
   "outputs": [],
   "source": [
    "fig = plt.figure(figsize=(12,8))\n",
    "ax = plt.gca()\n",
    "kwargs = {'phases': [0], 'redshifts': [0, 0.2, 0.5, 1.0, 1.5], 'scaling': [1e0, 1e-1, 1e-2, 1e-3, 1e-4]}\n",
    "\n",
    "plot_model(model, ax, **kwargs)\n",
    "\n",
    "ax.set_yscale('log')\n",
    "ax.set_ylim(1e-14, 1.2e-8)\n",
    "\n",
    "overlay_bandpasses(ax)"
   ]
  },
  {
   "cell_type": "code",
   "execution_count": null,
   "metadata": {},
   "outputs": [],
   "source": [
    "fig = plt.figure(figsize=(12,8))\n",
    "ax = plt.gca()\n",
    "kwargs = {'phases': [20], 'redshifts': [0, 0.2, 0.5, 1.0, 1.5], 'scaling': [1e0, 1e-1, 1e-2, 1e-3, 1e-4]}\n",
    "\n",
    "plot_model(model, ax, **kwargs)\n",
    "\n",
    "ax.set_yscale('log')\n",
    "ax.set_ylim(1e-14, 1.2e-8)\n",
    "\n",
    "overlay_bandpasses(ax)"
   ]
  },
  {
   "cell_type": "code",
   "execution_count": null,
   "metadata": {},
   "outputs": [],
   "source": []
  },
  {
   "cell_type": "code",
   "execution_count": null,
   "metadata": {},
   "outputs": [],
   "source": []
  }
 ],
 "metadata": {
  "kernelspec": {
   "display_name": "Python 3",
   "language": "python",
   "name": "python3"
  },
  "language_info": {
   "codemirror_mode": {
    "name": "ipython",
    "version": 3
   },
   "file_extension": ".py",
   "mimetype": "text/x-python",
   "name": "python",
   "nbconvert_exporter": "python",
   "pygments_lexer": "ipython3",
   "version": "3.7.0"
  }
 },
 "nbformat": 4,
 "nbformat_minor": 2
}
